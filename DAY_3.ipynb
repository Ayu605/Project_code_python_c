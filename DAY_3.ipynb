{
 "cells": [
  {
   "cell_type": "markdown",
   "metadata": {},
   "source": [
    "## To check even odd number"
   ]
  },
  {
   "cell_type": "code",
   "execution_count": 3,
   "metadata": {},
   "outputs": [
    {
     "name": "stdout",
     "output_type": "stream",
     "text": [
      "Enter the number 4\n",
      "The Enterd Number 4  is Even\n"
     ]
    }
   ],
   "source": [
    "num=int(input(\"Enter the number \"))\n",
    "if num%2==0:\n",
    "    print(\"The Enterd Number\",num, \" is Even\")\n",
    "else:\n",
    "    print(\"The entered number\",num, \"is odd\")"
   ]
  },
  {
   "cell_type": "markdown",
   "metadata": {},
   "source": [
    "## BMI Calculator"
   ]
  },
  {
   "cell_type": "code",
   "execution_count": 6,
   "metadata": {},
   "outputs": [
    {
     "name": "stdout",
     "output_type": "stream",
     "text": [
      "Enter the height in meters: 184\n",
      "Enter the weight in kg: 85\n",
      "Your bmi is 25 , you are over weight\n"
     ]
    }
   ],
   "source": [
    "h=int(input(\"Enter the height in meters: \"))\n",
    "w=int(input(\"Enter the weight in kg: \"))\n",
    "a=h/100\n",
    "bmi=round(w/(a**2))\n",
    "if bmi<18.5:\n",
    "    print(f\"Your bmi is {bmi} , you are under weight\")\n",
    "elif 18.5<bmi<25:\n",
    "    print(f\"Your bmi is {bmi} ,you are in normal condition\")\n",
    "else:\n",
    "    print(f\"Your bmi is {bmi} , you are over weight\")"
   ]
  },
  {
   "cell_type": "markdown",
   "metadata": {},
   "source": [
    "## Leap Year\n"
   ]
  },
  {
   "cell_type": "code",
   "execution_count": 8,
   "metadata": {},
   "outputs": [
    {
     "name": "stdout",
     "output_type": "stream",
     "text": [
      "Enter the year2020\n",
      "Leap Year\n"
     ]
    }
   ],
   "source": [
    "year=int(input(\"Enter the year\"))\n",
    "if year%4==0:\n",
    "    if year%100==0:\n",
    "        if year%400==0:\n",
    "            print(\"Leap Year\")\n",
    "        else:\n",
    "            print(\"Not a leap year\")\n",
    "    else:\n",
    "        print(\"Leap Year\")\n",
    "else:\n",
    "    print(\"Not a Leap year\")"
   ]
  },
  {
   "cell_type": "markdown",
   "metadata": {},
   "source": [
    "## Pizza Order"
   ]
  },
  {
   "cell_type": "code",
   "execution_count": 7,
   "metadata": {},
   "outputs": [
    {
     "name": "stdout",
     "output_type": "stream",
     "text": [
      "Welcome to Python Pizza! 😀\n",
      "What size do you want sir \n",
      " Small, Medium, Large Large\n",
      "Want to add more stuff Yes or No Yes\n",
      "Want to add more cheese Yes or No Yes\n",
      "The total bill is 1050\n"
     ]
    }
   ],
   "source": [
    "print(\"Welcome to Python Pizza! \\U0001f600\")\n",
    "size=input(\"What size do you want sir \\n Small, Medium, Large \")\n",
    "add_pep=input(\"Want to add more stuff Yes or No \")\n",
    "extra_cheese=input(\"Want to add more cheese Yes or No \")\n",
    "bill=0\n",
    "if size==\"Small\":\n",
    "    bill+=350\n",
    "elif size==\"Medium\":\n",
    "    bill+=450\n",
    "else:\n",
    "    bill+=550\n",
    "if add_pep==\"Yes\":\n",
    "    if size==\"Small\":\n",
    "        bill+=100\n",
    "    else:\n",
    "        bill+=200\n",
    "if extra_cheese==\"Yes\":\n",
    "    if size==\"Small\":\n",
    "        bill+=250\n",
    "    else:\n",
    "        bill+=300\n",
    "print(f\"The total bill is {bill}\")"
   ]
  },
  {
   "cell_type": "code",
   "execution_count": 12,
   "metadata": {},
   "outputs": [
    {
     "data": {
      "text/plain": [
       "2"
      ]
     },
     "execution_count": 12,
     "metadata": {},
     "output_type": "execute_result"
    }
   ],
   "source": [
    "a=\"AAyush\"\n",
    "a.lower().count('a')"
   ]
  },
  {
   "cell_type": "markdown",
   "metadata": {},
   "source": [
    "# Love Calculator"
   ]
  },
  {
   "cell_type": "code",
   "execution_count": 3,
   "metadata": {},
   "outputs": [
    {
     "name": "stdout",
     "output_type": "stream",
     "text": [
      "Welcome to Python Love Calculator 🥰 ! \n",
      "Enter your Name 😍 True\n",
      "Enter you Patner's Name 😍 love\n",
      "Your Socre is 55\n"
     ]
    }
   ],
   "source": [
    "print(\"Welcome to Python Love Calculator \\U0001f970 ! \")\n",
    "\n",
    "name1=input(\"Enter your Name \\U0001f60D \")\n",
    "name2=input(\"Enter you Patner's Name \\U0001f60D \")\n",
    "\n",
    "string= name1 + name2\n",
    "\n",
    "lower_case=string.lower()\n",
    "\n",
    "t=lower_case.count(\"t\")\n",
    "r=lower_case.count(\"r\")\n",
    "u=lower_case.count(\"u\")\n",
    "e=lower_case.count(\"e\")\n",
    "\n",
    "true=t+r+u+e\n",
    "\n",
    "l=lower_case.count(\"l\")\n",
    "o=lower_case.count(\"o\")\n",
    "v=lower_case.count(\"v\")\n",
    "e=lower_case.count(\"e\")\n",
    "\n",
    "love= l+o+v+e\n",
    "\n",
    "love_score=int(str(true) + str(love))\n",
    "\n",
    "if (love_score<10) and (love_score>90):\n",
    "    print(f\"Your Score is {love_score}, you go togrther like coke and mentos\")\n",
    "elif (love_score>=40) and (love_score<=50):\n",
    "    print(f\"Your Score is {love_score}, you are alright togehter\")\n",
    "else:\n",
    "    print(f\"Your Socre is {love_score}\")\n",
    "    \n"
   ]
  },
  {
   "cell_type": "markdown",
   "metadata": {},
   "source": [
    "## Factorial Program"
   ]
  },
  {
   "cell_type": "code",
   "execution_count": 7,
   "metadata": {},
   "outputs": [
    {
     "name": "stdout",
     "output_type": "stream",
     "text": [
      "The factorial of 7 is  1\n",
      "The factorial of 7 is  2\n",
      "The factorial of 7 is  6\n",
      "The factorial of 7 is  24\n",
      "The factorial of 7 is  120\n",
      "The factorial of 7 is  720\n",
      "The factorial of 7 is  5040\n"
     ]
    }
   ],
   "source": [
    "\n",
    "fact=1\n",
    "for i in range(1,8):\n",
    "    fact*=i\n",
    "    print(\"The factorial of\",n,\"is \",fact)"
   ]
  },
  {
   "cell_type": "markdown",
   "metadata": {},
   "source": [
    "## Prime Number"
   ]
  },
  {
   "cell_type": "code",
   "execution_count": 13,
   "metadata": {},
   "outputs": [
    {
     "name": "stdout",
     "output_type": "stream",
     "text": [
      "Enter the number13\n",
      "Prime\n"
     ]
    }
   ],
   "source": [
    "n=int(input(\"Enter the number\"))\n",
    "prime=1\n",
    "for i in range(2,n):\n",
    "    if(n%i==0):\n",
    "        prime=0\n",
    "        break\n",
    "if(prime==0 and n!=2):\n",
    "    print(\"Not Prime\")\n",
    "else:\n",
    "    print('Prime')"
   ]
  },
  {
   "cell_type": "code",
   "execution_count": null,
   "metadata": {},
   "outputs": [],
   "source": []
  }
 ],
 "metadata": {
  "kernelspec": {
   "display_name": "Python 3",
   "language": "python",
   "name": "python3"
  },
  "language_info": {
   "codemirror_mode": {
    "name": "ipython",
    "version": 3
   },
   "file_extension": ".py",
   "mimetype": "text/x-python",
   "name": "python",
   "nbconvert_exporter": "python",
   "pygments_lexer": "ipython3",
   "version": "3.8.5"
  }
 },
 "nbformat": 4,
 "nbformat_minor": 4
}
